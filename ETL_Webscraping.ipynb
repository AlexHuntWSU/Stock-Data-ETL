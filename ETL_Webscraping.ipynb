{
 "cells": [
  {
   "cell_type": "code",
   "execution_count": 2,
   "id": "e8e77fc5-f164-4a80-8165-ec72a76f89f1",
   "metadata": {},
   "outputs": [],
   "source": [
    "#!pip install us"
   ]
  },
  {
   "cell_type": "code",
   "execution_count": 3,
   "id": "26e273e3-1c05-4457-bf08-9fbc5ec967bd",
   "metadata": {},
   "outputs": [],
   "source": [
    "from bs4 import BeautifulSoup\n",
    "import requests\n",
    "import ibm_db\n",
    "import us\n",
    "import os\n",
    "import pandas as pd\n",
    "import numpy as np"
   ]
  },
  {
   "cell_type": "markdown",
   "id": "c75923c9-9415-47be-8642-54c86836051c",
   "metadata": {},
   "source": [
    "<h3>Database Connection</h3>\n",
    "Connects to IBM cloud DB2 database"
   ]
  },
  {
   "cell_type": "code",
   "execution_count": 73,
   "id": "11a9fe55-b4e5-46bd-bc41-44dd5f8d5c81",
   "metadata": {},
   "outputs": [
    {
     "name": "stdout",
     "output_type": "stream",
     "text": [
      "Connected to database:  BLUDB as user:  xcb12089 on host:  98538591-7217-4024-b027-8baa776ffad1.c3n41cmd0nqnrk39u98g.databases.appdomain.cloud\n"
     ]
    }
   ],
   "source": [
    "dsn_hostname = \"98538591-7217-4024-b027-8baa776ffad1.c3n41cmd0nqnrk39u98g.databases.appdomain.cloud\"\n",
    "dsn_uid = \"xcb12089\"\n",
    "dsn_pwd = \"xev1HxMBa4AgFJFV\"\n",
    "dsn_driver = \"{IBM DB2 ODBC DRIVER}\"\n",
    "dsn_database = \"BLUDB\"\n",
    "dsn_port = \"30875\"\n",
    "dsn_protocol = \"TCPIP\"\n",
    "dsn_security = \"SSL\"\n",
    "\n",
    "dsn = (\n",
    "    \"DRIVER={0};\"\n",
    "    \"DATABASE={1};\"\n",
    "    \"HOSTNAME={2};\"\n",
    "    \"PORT={3};\"\n",
    "    \"PROTOCOL={4};\"\n",
    "    \"UID={5};\"\n",
    "    \"PWD={6};\"\n",
    "    \"SECURITY={7};\").format(dsn_driver, dsn_database, dsn_hostname, \n",
    "                            dsn_port, dsn_protocol, dsn_uid, dsn_pwd,dsn_security)\n",
    "\n",
    "try:\n",
    "    conn = ibm_db.connect(dsn, \"\", \"\")\n",
    "    print (\"Connected to database: \", dsn_database, \"as user: \", dsn_uid, \"on host: \", dsn_hostname)\n",
    "\n",
    "except:\n",
    "    print (\"Unable to connect: \", ibm_db.conn_errormsg() )"
   ]
  },
  {
   "cell_type": "markdown",
   "id": "1bbc151f-af30-45cd-a289-e4ce93b34f04",
   "metadata": {},
   "source": [
    "<h3>Webscraping</h3>\n",
    "Retrieves the financial info for the largest companies by revenue"
   ]
  },
  {
   "cell_type": "code",
   "execution_count": 4,
   "id": "e5011bca-640a-4547-8ff3-5bf459b97464",
   "metadata": {},
   "outputs": [],
   "source": [
    "URL = \"https://en.wikipedia.org/wiki/List_of_largest_companies_in_the_United_States_by_revenue\"\n",
    "html_data = requests.get(URL).text"
   ]
  },
  {
   "cell_type": "code",
   "execution_count": 5,
   "id": "768b948b-49c2-48eb-95b1-f009e5c75d52",
   "metadata": {},
   "outputs": [],
   "source": [
    "soup = BeautifulSoup(html_data,'html.parser')\n",
    "data = pd.DataFrame(columns=[\"Name\",\"Symbol\",\"Industry\",\"Revenue(USD Millions)\",\n",
    "                             \"Revenue_Growth\",\"Operating_Income\",\"Net_Income\",\n",
    "                             \"Assets\",\"Equity\",\"Employees\",\"Headquarters\"])\n",
    "profit_data = pd.DataFrame(columns=[\"Name\",\"Profit\"])"
   ]
  },
  {
   "cell_type": "code",
   "execution_count": 6,
   "id": "f8c94276-25cc-488f-b176-ade74d7edba7",
   "metadata": {},
   "outputs": [],
   "source": [
    "for row in soup.find_all('tbody')[1].find_all('tr'):\n",
    "    col = row.find_all('td')\n",
    "    i = -1\n",
    "    symbol = 'Null'\n",
    "    o_income = 'Null'\n",
    "    n_income = 'Null'\n",
    "    assets = 'Null'\n",
    "    equity = 'Null'\n",
    "    if (col != []):\n",
    "        name = col[1].text\n",
    "        industry = col[2].text\n",
    "        revenue = col[3].text\n",
    "        pct = col[4].text\n",
    "        employees = col[5].text\n",
    "        headquarters = col[6].text\n",
    "        sublink = \"https://en.wikipedia.org{}\".format(row.find_all('a')[0].get('href')) \n",
    "        sub_html = requests.get(sublink).text\n",
    "        soup_sublink = BeautifulSoup(sub_html,'html.parser')\n",
    "        infobox = soup_sublink.find(\"table\", {\"class\": \"infobox vcard\"})\n",
    "        for row in infobox.find_all('tr'): #Gets stock symbol and financial information from the sublinks\n",
    "            col = row.find_all('th')\n",
    "            i = i + 1\n",
    "            if (col != [] and col[0].text == 'Traded as'):\n",
    "                symbol = infobox.find_all('tr')[i].find_all('a')[2].text\n",
    "            if (col != [] and col[0].text == 'Operating income'):\n",
    "                o_income = infobox.find_all('tr')[i].find_all('td')[0].text\n",
    "            if (col != [] and col[0].text == 'Net income'):\n",
    "                n_income = infobox.find_all('tr')[i].find_all('td')[0].text\n",
    "            if (col != [] and col[0].text == 'Total assets'):\n",
    "                assets = infobox.find_all('tr')[i].find_all('td')[0].text\n",
    "            if (col != [] and col[0].text == 'Total equity'):\n",
    "                equity = infobox.find_all('tr')[i].find_all('td')[0].text\n",
    "        data=data.append({'Name':name,'Symbol':symbol,'Industry':industry,'Revenue(USD Millions)':revenue,\n",
    "                          'Revenue_Growth':pct,'Operating_Income':o_income,'Net_Income':n_income,\n",
    "                          'Assets':assets,'Equity':equity,'Employees':employees,\n",
    "                          'Headquarters':headquarters}, ignore_index = True)"
   ]
  },
  {
   "cell_type": "code",
   "execution_count": 7,
   "id": "173b8f0e-9651-4376-8f7a-0e039031813e",
   "metadata": {},
   "outputs": [],
   "source": [
    "#Retrieves data from the largest companies by profit table\n",
    "for row in soup.find_all('tbody')[2].find_all('tr'):\n",
    "    col = row.find_all('td')\n",
    "    if (col != []):\n",
    "        name = col[1].text\n",
    "        profit = col[3].text\n",
    "        profit_data=profit_data.append({'Name':name,'Profit':profit}, ignore_index=True)"
   ]
  },
  {
   "cell_type": "markdown",
   "id": "fa80e881-b584-4ab5-b83f-1aa7c95355c7",
   "metadata": {},
   "source": [
    "<h3>Data Cleaning</h3>\n",
    "Cleans and modifies the data to prepare it for DB2 upload"
   ]
  },
  {
   "cell_type": "code",
   "execution_count": 8,
   "id": "5c841f5a-81f6-4d05-bbd1-50f91de31da2",
   "metadata": {},
   "outputs": [],
   "source": [
    "#Removes the newline symbols\n",
    "data = data.replace('\\n','',regex=True)\n",
    "profit_data = profit_data.replace('\\n','',regex=True)"
   ]
  },
  {
   "cell_type": "code",
   "execution_count": null,
   "id": "0e00da12-e834-42f8-8a06-134e8329557c",
   "metadata": {},
   "outputs": [],
   "source": [
    "#Initial data to CSV\n",
    "path=os.path.join(os.getcwd(),'Initial_Data.csv')\n",
    "path\n",
    "csv = data.to_csv(path)"
   ]
  },
  {
   "cell_type": "code",
   "execution_count": 11,
   "id": "60053ec5-c6d8-410b-9376-65a833c0d3d8",
   "metadata": {},
   "outputs": [],
   "source": [
    "financials_type = ['Operating_Income','Net_Income','Assets','Equity']\n",
    "#removes unicode spaces to make regex work correctly\n",
    "for index in range(len(financials_type)):\n",
    "    t=financials_type[index]\n",
    "    data[t] = data[t].str.replace(u'\\xa0',' ') #index 75"
   ]
  },
  {
   "cell_type": "code",
   "execution_count": 12,
   "id": "067a9d6d-6f41-4bdf-b6f3-748c6d841bd1",
   "metadata": {},
   "outputs": [],
   "source": [
    "count = data.Headquarters.str.count(',') #checks to make sure Headquarters can be split into two columns\n",
    "data[['City','State']] = data['Headquarters'].str.split(',', expand=True,n=1)\n",
    "data.iloc[count[count>1].index, 12] = data.iloc[count[count>1].index, 12].str.split(',').str[1]#used to get state when there is a county"
   ]
  },
  {
   "cell_type": "code",
   "execution_count": 13,
   "id": "2b151679-56b0-4554-b801-84919c4f5fd9",
   "metadata": {},
   "outputs": [],
   "source": [
    "#Transformation from percentage to decimal\n",
    "data['Revenue_Growth'] = round((data['Revenue_Growth'].str.strip('%').astype('float') / 100.0),2)"
   ]
  },
  {
   "cell_type": "code",
   "execution_count": 14,
   "id": "fd45f242-5c0b-4a61-a450-7dab8ed9197b",
   "metadata": {},
   "outputs": [],
   "source": [
    "#Removes commas from revenue so it can be uploaded as a numeric value\n",
    "data['Revenue(USD Millions)'] = data['Revenue(USD Millions)'].str.replace(',','')"
   ]
  },
  {
   "cell_type": "code",
   "execution_count": 15,
   "id": "bf863a65-da86-4a28-8e48-4d2b75bd8b02",
   "metadata": {},
   "outputs": [],
   "source": [
    "#Separates the industries into multiple columns\n",
    "industry = lambda x: 'Industry_{}'.format(x+1)\n",
    "data = data.join(data['Industry'].str.split('and',expand=True).rename(columns=industry).fillna(''))"
   ]
  },
  {
   "cell_type": "code",
   "execution_count": 16,
   "id": "30ef5f6f-32f2-4fb9-857e-189518f299ba",
   "metadata": {},
   "outputs": [],
   "source": [
    "#Splits the information in each financial type column using regex.\n",
    "#ex. US$212.206 billion[1] (2021) -> 212.206, billion, 2021\n",
    "for index in range(len(financials_type)):\n",
    "    t=financials_type[index]\n",
    "    data[['{}_Amount'.format(t),'{}_Scale'.format(t),'{}_FY'.format(t)]] = \\\n",
    "    data[t].str.extract(r'\\$(.+?\\d.+?\\s)([BMbm]illion).+?(\\/*\\d\\d\\d\\d)\\)',expand=True) #extracts relevant info into mutiple columns\n",
    "    #Data cleansing\n",
    "    data['{}_Amount'.format(t)] = data['{}_Amount'.format(t)].fillna(0)\n",
    "    data['{}_Amount'.format(t)] = data['{}_Amount'.format(t)].str.strip(' ').str.strip('$')\n",
    "    data['{}_Amount'.format(t)] = data['{}_Amount'.format(t)].str.replace(',','').str.replace('−','-') #Change to proper negative value unicode to ascii\n",
    "    data['{}_Amount'.format(t)] = pd.to_numeric(data['{}_Amount'.format(t)])\n",
    "    data['{}_Amount'.format(t)] = np.where(data['{}_Scale'.format(t)].str \\\n",
    "        .contains('[bB]illion',regex=True),data['{}_Amount'.format(t)].astype('float') * 1000, \\\n",
    "        data['{}_Amount'.format(t)].astype('float')) #Rewrites the amount in millions to match with revenue and profit"
   ]
  },
  {
   "cell_type": "code",
   "execution_count": 17,
   "id": "4bf6984c-2253-493d-9c5f-d8a71d6acbb5",
   "metadata": {},
   "outputs": [],
   "source": [
    "#Drops unused columns\n",
    "data = data.drop(['Industry','Operating_Income','Net_Income','Assets','Equity','Headquarters' \\\n",
    "                 ,'Operating_Income_Scale','Net_Income_Scale','Assets_Scale','Equity_Scale'], axis = 1)"
   ]
  },
  {
   "cell_type": "code",
   "execution_count": 18,
   "id": "4511b263-d064-4fdf-9014-8a93dc5a0c7d",
   "metadata": {},
   "outputs": [],
   "source": [
    "#Joins profit data to dataframe\n",
    "data = data.merge(profit_data, on='Name', how='left')\n",
    "data['Profit'] = data['Profit'].str.replace(',','')"
   ]
  },
  {
   "cell_type": "code",
   "execution_count": 19,
   "id": "1a4a520b-1c2d-4d3c-9dd3-9deb2de8b665",
   "metadata": {},
   "outputs": [
    {
     "name": "stderr",
     "output_type": "stream",
     "text": [
      "/home/jupyterlab/conda/envs/python/lib/python3.7/site-packages/ipykernel_launcher.py:4: SettingWithCopyWarning: \n",
      "A value is trying to be set on a copy of a slice from a DataFrame\n",
      "\n",
      "See the caveats in the documentation: https://pandas.pydata.org/pandas-docs/stable/user_guide/indexing.html#returning-a-view-versus-a-copy\n",
      "  after removing the cwd from sys.path.\n"
     ]
    }
   ],
   "source": [
    "#uses the us package to change states to their abbreviation\n",
    "data['State'] = data['State'].str.replace('.','',regex=False).str.strip()\n",
    "for index in range(len(data)):\n",
    "    data['State'][index] = us.states.lookup(data['State'][index]).abbr"
   ]
  },
  {
   "cell_type": "code",
   "execution_count": 21,
   "id": "c15a05b7-9de6-49de-a8af-fcc97ce5e374",
   "metadata": {},
   "outputs": [],
   "source": [
    "#Cleaned data to CSV\n",
    "path=os.path.join(os.getcwd(),'Financial_Data.csv')\n",
    "path\n",
    "csv = data.to_csv(path)"
   ]
  },
  {
   "cell_type": "markdown",
   "id": "0fa149c6-113f-4fe7-9b62-68eb871e989b",
   "metadata": {},
   "source": [
    "<h3>Data Transformation</h3>\n",
    "Modifies the data structure for mapping to DB2 tables"
   ]
  },
  {
   "cell_type": "code",
   "execution_count": 85,
   "id": "f496b804-6a6c-4af2-905a-4c03ad4ccdc4",
   "metadata": {},
   "outputs": [],
   "source": [
    "financials = data[['Symbol','Revenue(USD Millions)','Operating_Income_Amount',\n",
    "    'Operating_Income_FY','Net_Income_Amount','Net_Income_FY','Assets_Amount',\n",
    "    'Assets_FY','Equity_Amount','Equity_FY','Profit']]\n",
    "Companies = data[['Symbol','Name','Industry_1','Industry_2','City','State']]"
   ]
  },
  {
   "cell_type": "code",
   "execution_count": 86,
   "id": "496459e3-ab9b-4b8d-bbef-07ab418746ee",
   "metadata": {},
   "outputs": [],
   "source": [
    "years = pd.DataFrame(columns=['Year'])\n",
    "for i in range(len(financials_type)):\n",
    "    data['{}_FY'.format(financials_type[i])] = data['{}_FY'.format(financials_type[i])].replace('[^\\d]','',regex=True) #some values had /2022\n",
    "    #Finds the minimum year of finanical data\n",
    "    years = years.append({'Year':data['{}_FY'.format(financials_type[i])].value_counts().index.min()}, \n",
    "                 ignore_index = True)\n",
    "years.min() #Account for data between 2016 and 2022\n",
    "#creates dataframe for combined fiscal year data using one FY column\n",
    "FY_Data = pd.DataFrame(columns=['Symbol','Fiscal Year','Operating_Income','Net_Income','Assets','Equity','Profit','Revenue'])"
   ]
  },
  {
   "cell_type": "code",
   "execution_count": 87,
   "id": "859878f4-98fb-4683-b946-35136284677c",
   "metadata": {},
   "outputs": [],
   "source": [
    "#Drop companies with no stock symbol\n",
    "Companies = Companies.drop(index=(Companies[Companies['Symbol'] == 'Null']).index).reset_index()\n",
    "pd.set_option(\"max_rows\",None)\n",
    "pd.set_option('max_columns',None)"
   ]
  },
  {
   "cell_type": "code",
   "execution_count": 88,
   "id": "f107ce8b-1568-4a94-9e94-afb9a2c56006",
   "metadata": {},
   "outputs": [],
   "source": [
    "#Adds stock symbols and years between 2016(the minium year) to 2023 (current) as well as 0000 for values with missing FY\n",
    "for y in range(len(Companies['Symbol'])):\n",
    "    FY_Data = FY_Data.append({'Symbol':Companies['Symbol'][y],'Fiscal Year':'0000'}, ignore_index = True)\n",
    "    for i in range(int(years.min()),2023):\n",
    "        FY_Data = FY_Data.append({'Symbol':Companies['Symbol'][y],'Fiscal Year':str(i)}, ignore_index = True)"
   ]
  },
  {
   "cell_type": "code",
   "execution_count": 90,
   "id": "2f2904e3-150c-425f-be6f-37e5911527ca",
   "metadata": {},
   "outputs": [],
   "source": [
    "#Creates dataframe for revenue and profit data where fiscal year is 0000 (N/A)\n",
    "fiscal_data = FY_Data.loc[FY_Data['Fiscal Year']=='0000'].merge(financials[['Symbol','Revenue(USD Millions)','Profit']], on='Symbol', how='left')\n",
    "#Drops the rows with a FY of 0000 so the fiscal_data can be joined\n",
    "FY_Data = FY_Data.drop(index=(FY_Data[FY_Data['Fiscal Year']=='0000']).index)"
   ]
  },
  {
   "cell_type": "code",
   "execution_count": 93,
   "id": "66482469-492e-4162-8f23-83ce8232c290",
   "metadata": {},
   "outputs": [],
   "source": [
    "#Adds the fiscal_data to the FY_data dataframe\n",
    "fiscal_data = fiscal_data.drop(['Profit_x','Revenue'], axis=1)\n",
    "FY_Data = FY_Data.drop(['Profit','Revenue'], axis=1)\n",
    "FY_Data = pd.concat([FY_Data, fiscal_data]).sort_values(by=['Symbol'])\n",
    "FY_Data = FY_Data.rename(columns={'Revenue(USD Millions)':'Revenue','Profit_y':'Profit'})"
   ]
  },
  {
   "cell_type": "code",
   "execution_count": 97,
   "id": "1b4e1265-f55a-43d5-aea7-0365c1caa593",
   "metadata": {},
   "outputs": [],
   "source": [
    "#At this point, revenue and profit has been added to the table. This code joins the rest of the financial data based on year and symbol \n",
    "for i in range(len(financials_type)):\n",
    "    df = pd.DataFrame(columns=['Symbol','Fiscal Year',financials_type[i]]) \n",
    "    df['Symbol'] = financials['Symbol']\n",
    "    df['Fiscal Year'] = financials['{}_FY'.format(financials_type[i])] #Adds the FY for the specific financial type\n",
    "    df[financials_type[i]] = financials['{}_Amount'.format(financials_type[i])] #Adds the amount for the specific financial type\n",
    "    FY_Data = FY_Data.merge(df, on=['Symbol','Fiscal Year'], how='left')\n",
    "FY_Data = FY_Data.drop(['Operating_Income_x','Net_Income_x','Assets_x','Equity_x'], axis=1)\n",
    "types=[i+'_y' for i in financials_type]\n",
    "types = types + ['Revenue','Profit']\n",
    "FY_Data = FY_Data.dropna(axis=0,subset=types,how='all').reset_index() #drops data where there are no values for a fiscal year"
   ]
  },
  {
   "cell_type": "code",
   "execution_count": 100,
   "id": "361f6432-1e82-4983-94df-648eafc29915",
   "metadata": {},
   "outputs": [],
   "source": [
    "#Transformed data to CSV\n",
    "path=os.path.join(os.getcwd(),'FINANCIALS.csv')\n",
    "path\n",
    "csv = FY_Data.to_csv(path)"
   ]
  },
  {
   "cell_type": "markdown",
   "id": "89e86763-a27f-4e45-915d-8e4f88ebbbde",
   "metadata": {},
   "source": [
    "<h3>Data Upload</h3>\n",
    "Uploads the data to the IBM DB2 database"
   ]
  },
  {
   "cell_type": "code",
   "execution_count": 74,
   "id": "8cd1bb2a-5fdf-4cad-9699-3b8c2487038d",
   "metadata": {},
   "outputs": [],
   "source": [
    "#Loads data into the COMPANIES table\n",
    "comp_columns = 'STOCK_SYMBOL,COMPANY_NAME,INDUSTRY_1,INDUSTRY_2,CITY,STATE,ACTIVE_IND'\n",
    "for i,row in Companies.iterrows():\n",
    "    symbol=row[1].strip()\n",
    "    name=row[2].strip().replace(\"'\",'')\n",
    "    ind_1=row[3].strip().title()\n",
    "    ind_2=row[4].strip().title()\n",
    "    city=row[5].strip()\n",
    "    state=row[6]\n",
    "    #All companies are intitially set to inactive\n",
    "    data = \"'{}','{}','{}','{}','{}','{}','N'\".format(symbol,name,ind_1,ind_2,city,state)\n",
    "    sql = \"INSERT INTO COMPANIES (\" +comp_columns + \") VALUES(\"+data+\")\"\n",
    "    ibm_db.exec_immediate(conn, sql)"
   ]
  },
  {
   "cell_type": "code",
   "execution_count": 70,
   "id": "c88563fa-b829-48f2-9f4c-d7a1aa436d30",
   "metadata": {},
   "outputs": [],
   "source": [
    "#Loads data into the FINANCIALS table\n",
    "fin_columns = 'STOCK_SYMBOL,FISCAL_YEAR,REVENUE,PROFIT,OPERATING_INCOME,NET_INCOME,ASSETS,EQUITY'\n",
    "for i,row in FY_Data.iterrows():\n",
    "    symbol = row[1]\n",
    "    fy =str(row[2])\n",
    "    revenue=str(row[3]).replace('nan','0')\n",
    "    profit=str(row[4]).replace('nan','0')\n",
    "    oincome=str(row[5]).replace('nan','0')\n",
    "    nincome=str(row[6]).replace('nan','0')\n",
    "    assets=str(row[7]).replace('nan','0')\n",
    "    equity=str(row[8]).replace('nan','0')\n",
    "    data = \"'{}',{},{},{},{},{},{},{}\".format(symbol,fy,revenue,profit,oincome,nincome,assets,equity)\n",
    "    sql = \"INSERT INTO FINANCIALS (\" +fin_columns + \") VALUES(\"+data+\")\"\n",
    "    ibm_db.exec_immediate(conn, sql)"
   ]
  },
  {
   "cell_type": "code",
   "execution_count": 71,
   "id": "81b0591c-19c5-46fb-9b60-0efad2e2ad7b",
   "metadata": {},
   "outputs": [
    {
     "data": {
      "text/plain": [
       "True"
      ]
     },
     "execution_count": 71,
     "metadata": {},
     "output_type": "execute_result"
    }
   ],
   "source": [
    "ibm_db.close(conn)"
   ]
  },
  {
   "cell_type": "code",
   "execution_count": null,
   "id": "ef4c6392-86b7-411d-8040-15353039bda7",
   "metadata": {},
   "outputs": [],
   "source": []
  }
 ],
 "metadata": {
  "kernelspec": {
   "display_name": "Python",
   "language": "python",
   "name": "conda-env-python-py"
  },
  "language_info": {
   "codemirror_mode": {
    "name": "ipython",
    "version": 3
   },
   "file_extension": ".py",
   "mimetype": "text/x-python",
   "name": "python",
   "nbconvert_exporter": "python",
   "pygments_lexer": "ipython3",
   "version": "3.7.12"
  }
 },
 "nbformat": 4,
 "nbformat_minor": 5
}
