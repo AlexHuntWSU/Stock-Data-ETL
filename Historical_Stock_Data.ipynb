{
 "cells": [
  {
   "cell_type": "code",
   "execution_count": 3,
   "id": "56716bb1-5e74-4331-9f52-6e75026809e0",
   "metadata": {},
   "outputs": [],
   "source": [
    "#!pip install yfinance"
   ]
  },
  {
   "cell_type": "code",
   "execution_count": 4,
   "id": "7e2a0a73-437b-4ee3-a985-be5a3b43b23a",
   "metadata": {},
   "outputs": [],
   "source": [
    "import yfinance as yf\n",
    "import pandas as pd\n",
    "import matplotlib.pyplot as plt\n",
    "import os"
   ]
  },
  {
   "cell_type": "code",
   "execution_count": 5,
   "id": "cbf99436-62d9-40c4-9091-fe37be7b2138",
   "metadata": {},
   "outputs": [],
   "source": [
    "symbols = pd.read_csv('Financial_Data.csv', usecols=['Symbol'])\n",
    "symbols = symbols.drop(symbols[symbols.Symbol == 'Null'].index).reset_index() #drops missing symbols\n",
    "data = pd.DataFrame(columns=['Symbol','Date','Open','Close','Low','High','Volume','Dividends','Stock Splits'])\n",
    "hist_period = '10y' # 10 year historical data"
   ]
  },
  {
   "cell_type": "markdown",
   "id": "555df4be-b3fc-4c01-ab4f-d4e3ff632c93",
   "metadata": {},
   "source": [
    "Historical Stock Data"
   ]
  },
  {
   "cell_type": "code",
   "execution_count": 7,
   "id": "9dc1a78c-05ff-4022-a95f-c3e5b81ef711",
   "metadata": {},
   "outputs": [
    {
     "name": "stdout",
     "output_type": "stream",
     "text": [
      "- BRK.A: No data found, symbol may be delisted\n"
     ]
    }
   ],
   "source": [
    "for index in range((len(symbols))):\n",
    "    ticker = yf.Ticker(symbols['Symbol'][index])\n",
    "    hist_data = ticker.history(period=hist_period)\n",
    "    hist_data['Symbol'] = symbols['Symbol'][index] #adds a column for the stock symbol\n",
    "    hist_data['Date'] = hist_data.index.to_series() #makes a date column from datetime index\n",
    "    data = pd.concat([data,hist_data],axis=0)"
   ]
  },
  {
   "cell_type": "markdown",
   "id": "4ad5c8b0-582e-452a-a452-0557212c824e",
   "metadata": {},
   "source": [
    "Data Cleaning and Transformation"
   ]
  },
  {
   "cell_type": "code",
   "execution_count": 8,
   "id": "161e80db-cee9-4fac-b42d-15b8f12ea498",
   "metadata": {},
   "outputs": [
    {
     "data": {
      "text/html": [
       "<div>\n",
       "<style scoped>\n",
       "    .dataframe tbody tr th:only-of-type {\n",
       "        vertical-align: middle;\n",
       "    }\n",
       "\n",
       "    .dataframe tbody tr th {\n",
       "        vertical-align: top;\n",
       "    }\n",
       "\n",
       "    .dataframe thead th {\n",
       "        text-align: right;\n",
       "    }\n",
       "</style>\n",
       "<table border=\"1\" class=\"dataframe\">\n",
       "  <thead>\n",
       "    <tr style=\"text-align: right;\">\n",
       "      <th></th>\n",
       "      <th>Symbol</th>\n",
       "      <th>Date</th>\n",
       "      <th>Open</th>\n",
       "      <th>Close</th>\n",
       "      <th>Low</th>\n",
       "      <th>High</th>\n",
       "      <th>Volume</th>\n",
       "      <th>Dividends</th>\n",
       "      <th>Stock Splits</th>\n",
       "      <th>Adj Close</th>\n",
       "    </tr>\n",
       "  </thead>\n",
       "  <tbody>\n",
       "  </tbody>\n",
       "</table>\n",
       "</div>"
      ],
      "text/plain": [
       "Empty DataFrame\n",
       "Columns: [Symbol, Date, Open, Close, Low, High, Volume, Dividends, Stock Splits, Adj Close]\n",
       "Index: []"
      ]
     },
     "execution_count": 8,
     "metadata": {},
     "output_type": "execute_result"
    }
   ],
   "source": [
    "dups = data[data.duplicated()] #Check for duplicates\n",
    "dups"
   ]
  },
  {
   "cell_type": "code",
   "execution_count": 9,
   "id": "586620ca-1837-455b-9521-b709ae632117",
   "metadata": {},
   "outputs": [],
   "source": [
    "data['Open'] = round(data['Open'],2)\n",
    "data['High'] = round(data['High'],2)\n",
    "data['Low'] = round(data['Low'],2)\n",
    "data['Close'] = round(data['Close'],2)"
   ]
  },
  {
   "cell_type": "code",
   "execution_count": 10,
   "id": "b6b350bd-265c-451a-a246-9126d6945981",
   "metadata": {},
   "outputs": [
    {
     "data": {
      "text/plain": [
       "[<matplotlib.lines.Line2D at 0x7f1b36d65090>]"
      ]
     },
     "execution_count": 10,
     "metadata": {},
     "output_type": "execute_result"
    },
    {
     "data": {
      "image/png": "[encoded data removed]",
      "text/plain": [
       "<Figure size 432x288 with 1 Axes>"
      ]
     },
     "metadata": {
      "needs_background": "light"
     },
     "output_type": "display_data"
    }
   ],
   "source": [
    "#Check stock history for accruacy\n",
    "df = data.loc[data['Symbol'] == 'MSFT']\n",
    "plt.plot(df['Date'],df['Open'])"
   ]
  },
  {
   "cell_type": "code",
   "execution_count": 11,
   "id": "f55b2db0-cc11-494b-acc5-5e8e4eda87bc",
   "metadata": {},
   "outputs": [
    {
     "data": {
      "text/html": [
       "<div>\n",
       "<style scoped>\n",
       "    .dataframe tbody tr th:only-of-type {\n",
       "        vertical-align: middle;\n",
       "    }\n",
       "\n",
       "    .dataframe tbody tr th {\n",
       "        vertical-align: top;\n",
       "    }\n",
       "\n",
       "    .dataframe thead th {\n",
       "        text-align: right;\n",
       "    }\n",
       "</style>\n",
       "<table border=\"1\" class=\"dataframe\">\n",
       "  <thead>\n",
       "    <tr style=\"text-align: right;\">\n",
       "      <th></th>\n",
       "      <th>Symbol</th>\n",
       "      <th>Date</th>\n",
       "      <th>Open</th>\n",
       "      <th>Close</th>\n",
       "      <th>Low</th>\n",
       "      <th>High</th>\n",
       "      <th>Volume</th>\n",
       "      <th>Dividends</th>\n",
       "    </tr>\n",
       "  </thead>\n",
       "  <tbody>\n",
       "    <tr>\n",
       "      <th>0</th>\n",
       "      <td>WMT</td>\n",
       "      <td>2012-08-20</td>\n",
       "      <td>57.57</td>\n",
       "      <td>57.80</td>\n",
       "      <td>57.29</td>\n",
       "      <td>57.89</td>\n",
       "      <td>5548700</td>\n",
       "      <td>0.0</td>\n",
       "    </tr>\n",
       "    <tr>\n",
       "      <th>1</th>\n",
       "      <td>WMT</td>\n",
       "      <td>2012-08-21</td>\n",
       "      <td>57.80</td>\n",
       "      <td>57.11</td>\n",
       "      <td>57.11</td>\n",
       "      <td>57.83</td>\n",
       "      <td>7634200</td>\n",
       "      <td>0.0</td>\n",
       "    </tr>\n",
       "    <tr>\n",
       "      <th>2</th>\n",
       "      <td>WMT</td>\n",
       "      <td>2012-08-22</td>\n",
       "      <td>57.04</td>\n",
       "      <td>57.38</td>\n",
       "      <td>57.04</td>\n",
       "      <td>57.44</td>\n",
       "      <td>6661000</td>\n",
       "      <td>0.0</td>\n",
       "    </tr>\n",
       "    <tr>\n",
       "      <th>3</th>\n",
       "      <td>WMT</td>\n",
       "      <td>2012-08-23</td>\n",
       "      <td>57.40</td>\n",
       "      <td>57.21</td>\n",
       "      <td>57.08</td>\n",
       "      <td>57.51</td>\n",
       "      <td>6005100</td>\n",
       "      <td>0.0</td>\n",
       "    </tr>\n",
       "    <tr>\n",
       "      <th>4</th>\n",
       "      <td>WMT</td>\n",
       "      <td>2012-08-24</td>\n",
       "      <td>57.07</td>\n",
       "      <td>57.65</td>\n",
       "      <td>57.04</td>\n",
       "      <td>57.72</td>\n",
       "      <td>5190100</td>\n",
       "      <td>0.0</td>\n",
       "    </tr>\n",
       "  </tbody>\n",
       "</table>\n",
       "</div>"
      ],
      "text/plain": [
       "  Symbol       Date   Open  Close    Low   High   Volume  Dividends\n",
       "0    WMT 2012-08-20  57.57  57.80  57.29  57.89  5548700        0.0\n",
       "1    WMT 2012-08-21  57.80  57.11  57.11  57.83  7634200        0.0\n",
       "2    WMT 2012-08-22  57.04  57.38  57.04  57.44  6661000        0.0\n",
       "3    WMT 2012-08-23  57.40  57.21  57.08  57.51  6005100        0.0\n",
       "4    WMT 2012-08-24  57.07  57.65  57.04  57.72  5190100        0.0"
      ]
     },
     "execution_count": 11,
     "metadata": {},
     "output_type": "execute_result"
    }
   ],
   "source": [
    "#drops the index column and other unused columns to match data table\n",
    "data = data.drop(columns=['Stock Splits','Adj Close']).reset_index(drop=True) \n",
    "data.head()"
   ]
  },
  {
   "cell_type": "code",
   "execution_count": 12,
   "id": "561d156c-e901-48b3-9d0b-2082fd1c4571",
   "metadata": {},
   "outputs": [],
   "source": [
    "path=os.path.join(os.getcwd(),'Historical_Stock_Data.csv')\n",
    "path\n",
    "csv = data.to_csv(path) #Loads data to CSV to be manually loaded in IBM cloud"
   ]
  }
 ],
 "metadata": {
  "kernelspec": {
   "display_name": "Python",
   "language": "python",
   "name": "conda-env-python-py"
  },
  "language_info": {
   "codemirror_mode": {
    "name": "ipython",
    "version": 3
   },
   "file_extension": ".py",
   "mimetype": "text/x-python",
   "name": "python",
   "nbconvert_exporter": "python",
   "pygments_lexer": "ipython3",
   "version": "3.7.12"
  }
 },
 "nbformat": 4,
 "nbformat_minor": 5
}
